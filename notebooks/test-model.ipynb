{
 "cells": [
  {
   "cell_type": "code",
   "execution_count": 1,
   "metadata": {
    "_uuid": "29b901e17dc046f84d6502c06b6933c8ae4b6f60"
   },
   "outputs": [],
   "source": [
    "import sys\n",
    "# Add related paths to system path\n",
    "sys.path.append('../src')\n",
    "sys.path.append('../models')\n",
    "\n",
    "# Import dependencies\n",
    "import pickle\n",
    "import math\n",
    "import numpy as np\n",
    "from utils import get_policy\n",
    "from make_state_features import create_state\n",
    "from custom_flight_revenue_simulator import simulate_single_action as set_price\n",
    "from custom_flight_revenue_simulator import score_me"
   ]
  },
  {
   "cell_type": "code",
   "execution_count": 2,
   "metadata": {},
   "outputs": [],
   "source": [
    "q_filename = '../src/Q-qlearning-demandlevels.pickle'"
   ]
  },
  {
   "cell_type": "code",
   "execution_count": 3,
   "metadata": {
    "_cell_guid": "79c7e3d0-c299-4dcb-8224-4455121ee9b0",
    "_uuid": "d629ff2d2480ee46fbb7e2d37f6b5fab8052498a"
   },
   "outputs": [],
   "source": [
    "# Define class wrapper for learned Q function\n",
    "\n",
    "class PricingFunction():\n",
    "    def __init__(self, q_filename=q_filename):\n",
    "        # Load Q\n",
    "        with open(q_filename, 'rb') as q_file:\n",
    "            print(\"Loading Q function\")\n",
    "            self.Q = pickle.load(q_file)\n",
    "            print(self.Q)\n",
    "        # Get policy from Q\n",
    "        print(\"Loading policy\")\n",
    "        self.policy = get_policy(self.Q)\n",
    "        \n",
    "    def get_price(self, days_left, tickets_left, demand_level):\n",
    "        # If days_left and tickets_left are < 1, return 0\n",
    "        if days_left < 1 or tickets_left < 1:\n",
    "            return 0\n",
    "        demand_level = int(math.floor(demand_level))\n",
    "        state = create_state(days_left, demand_level, tickets_left)\n",
    "        price = self.policy[state]\n",
    "        return price\n",
    "    \n",
    "    def __call__(self, days_left, tickets_left, demand_level):\n",
    "        return self.get_price(days_left, tickets_left, demand_level)\n",
    "    \n",
    "    \n",
    "    \n",
    "class PricingFunction4D():\n",
    "    def __init__(self, q_filename=q_filename):\n",
    "        # Load Q\n",
    "        with open(q_filename, 'rb') as q_file:\n",
    "            print(\"Loading Q function\")\n",
    "            self.Q = pickle.load(q_file)\n",
    "            print(self.Q)\n",
    "        # Get policy from Q\n",
    "        print(\"Loading policy\")\n",
    "        self.policy = get_policy_4D(self.Q)\n",
    "        \n",
    "    def get_price(self, days_left, tickets_left, demand_level):\n",
    "        # If days_left and tickets_left are < 1, return 0\n",
    "        if days_left < 1 or tickets_left < 1:\n",
    "            return 0\n",
    "        demand_level = int(math.floor(demand_level))\n",
    "        price = self.policy[days_left-1, demand_level-100, tickets_left-1]\n",
    "        return price\n",
    "    \n",
    "    def __call__(self, days_left, tickets_left, demand_level):\n",
    "        return self.get_price(days_left, tickets_left, demand_level)\n",
    "        "
   ]
  },
  {
   "cell_type": "code",
   "execution_count": 4,
   "metadata": {},
   "outputs": [
    {
     "name": "stdout",
     "output_type": "stream",
     "text": [
      "Loading Q function\n",
      "[[0.00000e+00 0.00000e+00 0.00000e+00 ... 0.00000e+00 0.00000e+00\n",
      "  0.00000e+00]\n",
      " [0.00000e+00 0.00000e+00 0.00000e+00 ... 0.00000e+00 0.00000e+00\n",
      "  0.00000e+00]\n",
      " [0.00000e+00 0.00000e+00 0.00000e+00 ... 0.00000e+00 0.00000e+00\n",
      "  0.00000e+00]\n",
      " ...\n",
      " [0.00000e+00 0.00000e+00 0.00000e+00 ... 0.00000e+00 0.00000e+00\n",
      "  0.00000e+00]\n",
      " [0.00000e+00 0.00000e+00 0.00000e+00 ... 0.00000e+00 0.00000e+00\n",
      "  0.00000e+00]\n",
      " [0.00000e+00 1.00000e+02 2.00000e+02 ... 1.88298e+05 0.00000e+00\n",
      "  0.00000e+00]]\n",
      "Loading policy\n"
     ]
    }
   ],
   "source": [
    "# Instantiate pricing function\n",
    "pricing_function = PricingFunction()"
   ]
  },
  {
   "cell_type": "code",
   "execution_count": 15,
   "metadata": {
    "_uuid": "0faafdf897ee48bfd5e2f3f540c51877101dbcec",
    "scrolled": true
   },
   "outputs": [
    {
     "name": "stdout",
     "output_type": "stream",
     "text": [
      "Ran 200 flights starting 100 days before flight with 100 tickets. Average revenue: $8956\n",
      "Ran 200 flights starting 14 days before flight with 50 tickets. Average revenue: $0\n",
      "Ran 200 flights starting 2 days before flight with 20 tickets. Average revenue: $0\n",
      "Ran 200 flights starting 1 days before flight with 3 tickets. Average revenue: $0\n"
     ]
    },
    {
     "data": {
      "application/javascript": [
       "parent.postMessage({\"data\": {\"learnToolsVersion\": \"Testing\", \"questionId\": \"Aug31OptimizationChallenge\", \"valueTowardsCompletion\": 0.223902375, \"failureMessage\": null, \"learnTutorialId\": 0, \"interactionType\": \"check\", \"outcomeType\": \"Pass\"}, \"jupyterEvent\": \"custom.exercise_interaction\"}, \"*\")"
      ],
      "text/plain": [
       "<IPython.core.display.Javascript object>"
      ]
     },
     "metadata": {},
     "output_type": "display_data"
    },
    {
     "name": "stdout",
     "output_type": "stream",
     "text": [
      "Average revenue across all flights is $2239\n"
     ]
    }
   ],
   "source": [
    "\n",
    "from flight_revenue_simulator import score_me\n",
    "score_me(pricing_function)\n"
   ]
  },
  {
   "cell_type": "code",
   "execution_count": null,
   "metadata": {},
   "outputs": [],
   "source": []
  }
 ],
 "metadata": {
  "kernelspec": {
   "display_name": "Python 3",
   "language": "python",
   "name": "python3"
  },
  "language_info": {
   "codemirror_mode": {
    "name": "ipython",
    "version": 2
   },
   "file_extension": ".py",
   "mimetype": "text/x-python",
   "name": "python",
   "nbconvert_exporter": "python",
   "pygments_lexer": "ipython2",
   "version": "2.7.14"
  }
 },
 "nbformat": 4,
 "nbformat_minor": 1
}
