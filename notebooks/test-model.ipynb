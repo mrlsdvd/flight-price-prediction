{
 "cells": [
  {
   "cell_type": "code",
   "execution_count": null,
   "metadata": {
    "_uuid": "29b901e17dc046f84d6502c06b6933c8ae4b6f60"
   },
   "outputs": [],
   "source": [
    "import sys\n",
    "# Add related paths to system path\n",
    "sys.path.append('../src')\n",
    "sys.path.append('../models')\n",
    "\n",
    "# Import dependencies\n",
    "import pickle\n",
    "from utils import get_policy\n",
    "from make_state_features import create_state\n",
    "from flight_revenue_simulator import simulate_revenue, score_me"
   ]
  },
  {
   "cell_type": "code",
   "execution_count": null,
   "metadata": {},
   "outputs": [],
   "source": [
    "q_filename = '../models/Q-1.pickle'"
   ]
  },
  {
   "cell_type": "code",
   "execution_count": null,
   "metadata": {
    "_cell_guid": "79c7e3d0-c299-4dcb-8224-4455121ee9b0",
    "_uuid": "d629ff2d2480ee46fbb7e2d37f6b5fab8052498a"
   },
   "outputs": [],
   "source": [
    "# Define class wrapper for learned Q function\n",
    "\n",
    "class PricingFunction():\n",
    "    def __init__(self, q_filename=q_filename):\n",
    "        # Load Q\n",
    "        with open(q_filename, 'rb') as q_file:\n",
    "            print(\"Loading Q function\")\n",
    "            self.Q = pickle.load(q_file)\n",
    "        # Get policy from Q\n",
    "        print(\"Loading policy\")\n",
    "        self.policy = get_policy(self.Q)\n",
    "        \n",
    "    def get_price(self, days_left, tickets_left, demand_level):\n",
    "        # If days_left and tickets_left are < 1, return 0\n",
    "        if days_left < 1 or tickets_left < 1:\n",
    "            return 0\n",
    "    \n",
    "        state = create_state(days_left, demand_level, tickets_left)\n",
    "        print(days_left, demand_level, tickets_left)\n",
    "        print(state)\n",
    "        price = self.policy[state]\n",
    "        return price\n",
    "    \n",
    "    def __call__(self, days_left, tickets_left, demand_level):\n",
    "        return self.get_price(days_left, tickets_left, demand_level)\n",
    "        "
   ]
  },
  {
   "cell_type": "code",
   "execution_count": null,
   "metadata": {},
   "outputs": [],
   "source": [
    "# Instantiate pricing function\n",
    "pricing_function = PricingFunction()"
   ]
  },
  {
   "cell_type": "code",
   "execution_count": null,
   "metadata": {
    "_uuid": "0faafdf897ee48bfd5e2f3f540c51877101dbcec"
   },
   "outputs": [],
   "source": [
    "# Policy seems to be $0...\n",
    "simulate_revenue(days_left=50, tickets_left=100, pricing_function=pricing_function, verbose=True)"
   ]
  },
  {
   "cell_type": "code",
   "execution_count": null,
   "metadata": {
    "_uuid": "13850c7c9a8f46098ddc4cca9c326abd378dd257"
   },
   "outputs": [],
   "source": [
    "score_me(pricing_function) # Getting out of bound errors!"
   ]
  }
 ],
 "metadata": {
  "kernelspec": {
   "display_name": "Python 3",
   "language": "python",
   "name": "python3"
  },
  "language_info": {
   "codemirror_mode": {
    "name": "ipython",
    "version": 3
   },
   "file_extension": ".py",
   "mimetype": "text/x-python",
   "name": "python",
   "nbconvert_exporter": "python",
   "pygments_lexer": "ipython3",
   "version": "3.6.4"
  }
 },
 "nbformat": 4,
 "nbformat_minor": 1
}
