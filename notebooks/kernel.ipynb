{
  "cells": [
    {
      "metadata": {
        "_uuid": "952c0d8ef6614dadd0aa9c8306c48d55b4ce85f6"
      },
      "cell_type": "markdown",
      "source": "# Intro\n\nData scientists tend to focus on **prediction** because that's where conventional machine learning excels. But real world decision-making involves both prediction and **optimization**.  After predicting what will happen, you decide what to do about it.\n\nOptimization gets less attention than it deserves. So this micro-challenge will test your optimization skills as you write a function to improve how airlines set prices.\n\n![Imgur](https://i.imgur.com/AKrbLMR.jpg)\n\n\n# The Problem\n\nYou recently started Aviato.com, a startup that helps airlines set ticket prices. \n\nAviato's success will depend on a function called `pricing_function`.  This notebook already includes a very simple version of `pricing_function`.  You will modify `pricing_function` to maximize the total revenue collected for all flights in our simulated environment.\n\nFor each flight, `pricing_function` will be run once per (simulated) day to set that day's ticket price. The seats you don't sell today will be available to sell tomorrow, unless the flight leaves that day.\n\nYour `pricing_function` is run for one flight at a time, and it takes following inputs:\n- **Number of days until the flight**\n- **Number of seats they have left to sell**\n- **A variable called `demand_level` that determines how many tickets you can sell at any given price. **\n\nThe quantity you sell at any price is:\n> quantity_sold = demand_level - price\n\nTicket quantities are capped at the number of seats available.\n\nYour function will output the ticket price.\n\nYou learn the `demand_level` for each day at the time you need to make predictions for that day. For all days in the future, you only know `demand_level` will be drawn from the uniform distribution between 100 and 200.  So, for any day in the future, it is equally likely to be each value between 100 and 200.\n\nIn case this is still unclear, some relevant implementation code is shown below.\n\n# The Simulator\nWe will run your pricing function in a simulator to test how well it performs on a range of flight situations.  **Run the following code cell to set up your simulation environment:**"
    },
    {
      "metadata": {
        "trusted": true,
        "_uuid": "29b901e17dc046f84d6502c06b6933c8ae4b6f60",
        "collapsed": true
      },
      "cell_type": "code",
      "source": "import sys\nsys.path.append('../input')\nfrom flight_revenue_simulator import simulate_revenue, score_me\n",
      "execution_count": null,
      "outputs": []
    },
    {
      "metadata": {
        "_uuid": "a7b28253c46d09898ccc8908de34f38015e99bf4"
      },
      "cell_type": "markdown",
      "source": "In case you want to check your understanding of the simulator logic, here is a simplified version of some of the key logic (leaving out the code that prints your progress). If you feel you understand the description above, you can skip reading this code.\n\n```\ndef _tickets_sold(p, demand_level, max_qty):\n        quantity_demanded = floor(max(0, p - demand_level))\n        return min(quantity_demanded, max_qty)\n\ndef simulate_revenue(days_left, tickets_left, pricing_function, rev_to_date=0, demand_level_min=100, demand_level_max=200):\n    if (days_left == 0) or (tickets_left == 0):\n        return rev_to_date\n    else:\n        demand_level = uniform(demand_level_min, demand_level_max)\n        p = pricing_function(days_left, tickets_left, demand_level)\n        q = _tickets_sold(demand_level, p, tickets_left)\n        return _total_revenue(days_left = days_left-1, \n                              tickets_left = tickets_left-q, \n                              pricing_function = pricing_function, \n                              rev_to_date = rev_to_date + p * q,\n                              demand_level_min = demand_level_min,\n                              demand_level_max = demand_level_max\n                             )\n```\n\n# Your Code\n\nHere is starter code for the pricing function.  If you use this function, you will sell 10 tickets each day (until you run out of tickets)."
    },
    {
      "metadata": {
        "_cell_guid": "79c7e3d0-c299-4dcb-8224-4455121ee9b0",
        "_uuid": "d629ff2d2480ee46fbb7e2d37f6b5fab8052498a",
        "trusted": true,
        "collapsed": true
      },
      "cell_type": "code",
      "source": "from math import floor\n\nsavedF = {}\nsavedG = {}\n\ndef getG(tickets, days, demand):\n    if days <= 0 or tickets <= 0:\n        return (0,0)\n    if (tickets, days, demand) in savedG:\n        return savedG[(tickets, days, demand)]\n    topTotal = -1\n    topPrice = -1\n    for i in range(1, demand+1):\n        res = min(demand-i, tickets)*i + (getF(tickets-(demand-i), days-1) if tickets-(demand-i) > 0 else 0)\n        if res > topTotal:\n            topTotal, topPrice = res, i\n    savedG[(tickets, days, demand)] = (topTotal, topPrice)\n    return (topTotal, topPrice)\n                                       \n        \n\ndef getF(tickets,days):\n    if tickets<=0 or days <= 0:\n        return 0\n    if (tickets,days) in savedF:\n        return savedF[(tickets,days)]\n    res = 0.0\n    #count math expectation \n    for i in range(100, 201):\n        res += getG(tickets, days, i)[0]\n    res /= 101\n    \n    savedF[(tickets,days)] = res\n    return res\n\ndef pricing_function(days_left, tickets_left, demand_level):\n    demand_level_floor = int(floor(demand_level))\n    demand_delta = demand_level - demand_level_floor\n    (topTotal, topPrice) = getG(tickets_left, days_left, demand_level_floor)\n    return topPrice + demand_delta - 0.00001",
      "execution_count": null,
      "outputs": []
    },
    {
      "metadata": {
        "_uuid": "8dfa22a10e6153f9beab25168b1a1b8acfe4960d"
      },
      "cell_type": "markdown",
      "source": "To see a small example of how your code works, test it with the following function:"
    },
    {
      "metadata": {
        "trusted": true,
        "_uuid": "0faafdf897ee48bfd5e2f3f540c51877101dbcec"
      },
      "cell_type": "code",
      "source": "simulate_revenue(days_left=50, tickets_left=100, pricing_function=pricing_function, verbose=True)",
      "execution_count": null,
      "outputs": []
    },
    {
      "metadata": {
        "_uuid": "6cb61f41a2df125249a378413693b16ed145322a"
      },
      "cell_type": "markdown",
      "source": "You can try simulations for a variety of values.\n\nOnce you feel good about your pricing function, run it with the following cell to to see how it performs on a wider range of flights."
    },
    {
      "metadata": {
        "trusted": true,
        "_uuid": "13850c7c9a8f46098ddc4cca9c326abd378dd257"
      },
      "cell_type": "code",
      "source": "score_me(pricing_function)",
      "execution_count": null,
      "outputs": []
    },
    {
      "metadata": {
        "_uuid": "b2b09199f09d1a25d50c15a1fdedef51f96f01a6"
      },
      "cell_type": "markdown",
      "source": "# Discuss\nWant to discuss your solution or hear what others have done?  There is a [discussion thread](https://www.kaggle.com/general/62469) just for you."
    },
    {
      "metadata": {
        "_uuid": "afed31fbc63a8b9e40958e92cf2cf7742b1d25f4"
      },
      "cell_type": "markdown",
      "source": "---\n*This micro-challenge is from an exercise in an upcoming Optimization course on **[Kaggle Learn](https://www.kaggle.com/Learn?utm_medium=website&utm_source=kaggle.com&utm_campaign=micro+challenge+2018)**.  If you enjoyed this challenge and want to beef up your data science skills, you might enjoy our other courses.*"
    }
  ],
  "metadata": {
    "kernelspec": {
      "display_name": "Python 3",
      "language": "python",
      "name": "python3"
    },
    "language_info": {
      "name": "python",
      "version": "3.6.6",
      "mimetype": "text/x-python",
      "codemirror_mode": {
        "name": "ipython",
        "version": 3
      },
      "pygments_lexer": "ipython3",
      "nbconvert_exporter": "python",
      "file_extension": ".py"
    }
  },
  "nbformat": 4,
  "nbformat_minor": 1
}